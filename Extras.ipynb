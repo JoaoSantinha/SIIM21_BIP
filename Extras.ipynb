{
 "cells": [
  {
   "cell_type": "code",
   "execution_count": 2,
   "metadata": {},
   "outputs": [],
   "source": [
    "import itk\n",
    "import itkwidgets as itkw\n",
    "\n",
    "image_itk = itk.imread('./cT1wNeuro.nrrd')\n",
    "castImageFilter = itk.CastImageFilter[image_itk, itk.Image[itk.F,3]].New(image_itk)\n",
    "castImageFilter.Update()\n",
    "image_itk_float = castImageFilter.GetOutput()"
   ]
  },
  {
   "cell_type": "markdown",
   "metadata": {},
   "source": [
    "## Gradient Anisotropic Diffusion Filter"
   ]
  },
  {
   "cell_type": "code",
   "execution_count": null,
   "metadata": {},
   "outputs": [],
   "source": [
    "grad_ani_dif_filter = itk.GradientAnisotropicDiffusionImageFilter[image_itk_float, itk.Image[itk.F,3]].New(image_itk_float)\n",
    "grad_ani_dif_filter.Update()\n",
    "\n",
    "smooth_gadf = grad_ani_dif_filter.GetOutput()\n",
    "itkw.view(smooth_gadf, cmap='Grayscale', mode='x')"
   ]
  },
  {
   "cell_type": "markdown",
   "metadata": {},
   "source": [
    "## Apply a recursive gaussian filter which approximates to an IIR (infinite impulse response) convolution with the Gaussian kernel."
   ]
  },
  {
   "cell_type": "code",
   "execution_count": 8,
   "metadata": {},
   "outputs": [
    {
     "data": {
      "application/vnd.jupyter.widget-view+json": {
       "model_id": "2c27c1d5be23474488111f2415d60f56",
       "version_major": 2,
       "version_minor": 0
      },
      "text/plain": [
       "Viewer(gradient_opacity=0.22, rendered_image=<itkImagePython.itkImageF3; proxy of <Swig Object of type 'itkIma…"
      ]
     },
     "metadata": {},
     "output_type": "display_data"
    }
   ],
   "source": [
    "recursive_gaussian_filter = itk.RecursiveGaussianImageFilter[image_itk_float, itk.Image[itk.F,3]].New(image_itk_float)\n",
    "recursive_gaussian_filter.SetSigma(2)\n",
    "recursive_gaussian_filter.SetZeroOrder()\n",
    "recursive_gaussian_filter.Update()\n",
    "\n",
    "smooth_rgf = recursive_gaussian_filter.GetOutput()\n",
    "itkw.view(smooth_rgf, cmap='Grayscale', mode='x')"
   ]
  },
  {
   "cell_type": "markdown",
   "metadata": {},
   "source": [
    "### Interactive Recursive Gaussian"
   ]
  },
  {
   "cell_type": "code",
   "execution_count": 3,
   "metadata": {},
   "outputs": [
    {
     "data": {
      "application/vnd.jupyter.widget-view+json": {
       "model_id": "aa5a96f794564372acb748ef3a126314",
       "version_major": 2,
       "version_minor": 0
      },
      "text/plain": [
       "VBox(children=(Viewer(annotations=False, cmap='Grayscale', gradient_opacity=0.22, mode='x', rendered_image=<it…"
      ]
     },
     "metadata": {},
     "output_type": "display_data"
    }
   ],
   "source": [
    "from ipywidgets import interactive\n",
    "import ipywidgets as widgets\n",
    "viewer = itkw.view(image_itk_float, cmap='Grayscale', mode='x', annotations=False)\n",
    "\n",
    "# Create an itk smoother filter object. By re-using the object, output memory-reallocation is avoided\n",
    "recursive_gaussian_filter = itk.RecursiveGaussianImageFilter[image_itk_float, itk.Image[itk.F,3]].New(image_itk_float)\n",
    "recursive_gaussian_filter.SetZeroOrder()\n",
    "\n",
    "def recgauss_and_view(sigma=2):\n",
    "    recursive_gaussian_filter.SetSigma(sigma)\n",
    "    recursive_gaussian_filter.Update()\n",
    "    # Update the image used in the viewer\n",
    "    viewer.image = recursive_gaussian_filter.GetOutput()\n",
    "slider = interactive(recgauss_and_view, sigma=(0, 10, 1))\n",
    "\n",
    "widgets.VBox([viewer, slider])"
   ]
  },
  {
   "cell_type": "markdown",
   "metadata": {},
   "source": [
    "### Unsharpening Image Filter\n",
    "\n",
    "With this filter we may use a mask, which will be used to unsharpen your image only inside the provided mask."
   ]
  },
  {
   "cell_type": "code",
   "execution_count": 25,
   "metadata": {},
   "outputs": [
    {
     "data": {
      "application/vnd.jupyter.widget-view+json": {
       "model_id": "",
       "version_major": 2,
       "version_minor": 0
      },
      "text/plain": [
       "Viewer(cmap='Grayscale', gradient_opacity=0.22, mode='x', rendered_image=<itkImagePython.itkImageF3; proxy of …"
      ]
     },
     "metadata": {},
     "output_type": "display_data"
    }
   ],
   "source": [
    "unsharp_filter = itk.UnsharpMaskImageFilter[image_itk_float, itk.Image[itk.F,3]].New(image_itk_float)\n",
    "unsharp_filter.SetSigma(10)\n",
    "# sobel_filter.SetZeroOrder()\n",
    "unsharp_filter.Update()\n",
    "\n",
    "unsharped_image = unsharp_filter.GetOutput()\n",
    "itkw.view(unsharped_image, cmap='Grayscale', mode='x')"
   ]
  },
  {
   "cell_type": "code",
   "execution_count": 26,
   "metadata": {},
   "outputs": [
    {
     "data": {
      "application/vnd.jupyter.widget-view+json": {
       "model_id": "",
       "version_major": 2,
       "version_minor": 0
      },
      "text/plain": [
       "VBox(children=(Viewer(annotations=False, cmap='Grayscale', interpolation=False, mode='x', rendered_image=<itkI…"
      ]
     },
     "metadata": {},
     "output_type": "display_data"
    }
   ],
   "source": [
    "itkw.checkerboard(unsharped_image, sharper_image, cmap='Grayscale', mode='x', pattern=3)"
   ]
  }
 ],
 "metadata": {
  "kernelspec": {
   "display_name": "Python 3",
   "language": "python",
   "name": "python3"
  },
  "language_info": {
   "codemirror_mode": {
    "name": "ipython",
    "version": 3
   },
   "file_extension": ".py",
   "mimetype": "text/x-python",
   "name": "python",
   "nbconvert_exporter": "python",
   "pygments_lexer": "ipython3",
   "version": "3.6.8"
  }
 },
 "nbformat": 4,
 "nbformat_minor": 2
}
