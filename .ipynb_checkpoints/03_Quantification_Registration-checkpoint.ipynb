{
 "cells": [
  {
   "cell_type": "markdown",
   "metadata": {},
   "source": [
    "# Medical Image Analysis workshop - IT-IST\n",
    "## Image Quantification\n",
    "\n",
    "### Statistics"
   ]
  },
  {
   "cell_type": "code",
   "execution_count": 1,
   "metadata": {},
   "outputs": [],
   "source": [
    "import itk\n",
    "import numpy as np\n",
    "import itkwidgets as itkw\n",
    "import seaborn as sns\n",
    "import matplotlib.pyplot as plt\n",
    "from scipy import stats"
   ]
  },
  {
   "cell_type": "code",
   "execution_count": 2,
   "metadata": {},
   "outputs": [],
   "source": [
    "image_T1_itk = itk.imread('./brain_T1.nii.gz')\n",
    "mask_T1_itk = itk.imread('./bayesian_mask.nii.gz')"
   ]
  },
  {
   "cell_type": "markdown",
   "metadata": {},
   "source": [
    "ITK also enables you to extract statistics of your images using your segmentation mask labels"
   ]
  },
  {
   "cell_type": "code",
   "execution_count": 3,
   "metadata": {},
   "outputs": [],
   "source": [
    "label_stats_filter = itk.LabelStatisticsImageFilter[image_T1_itk, mask_T1_itk].New()\n",
    "label_stats_filter.SetInput(image_T1_itk)\n",
    "label_stats_filter.SetLabelInput(mask_T1_itk)\n",
    "label_stats_filter.Update()"
   ]
  },
  {
   "cell_type": "code",
   "execution_count": 4,
   "metadata": {},
   "outputs": [
    {
     "name": "stdout",
     "output_type": "stream",
     "text": [
      "Label 1: min = 19.0 ; max = 548.0 ; mean = 264.18749637786146 ; std = 78.86988182732186\n",
      "Label 2: min = 300.0 ; max = 764.0 ; mean = 450.54238341968914 ; std = 68.25628314698325\n",
      "Label 3: min = 416.0 ; max = 972.0 ; mean = 622.2899030450778 ; std = 93.89257180693737\n",
      "Label 4: min = 551.0 ; max = 1820.0 ; mean = 836.1740717017022 ; std = 115.94504035796179\n"
     ]
    }
   ],
   "source": [
    "print('Label 1: min =', label_stats_filter.GetMinimum(1), '; max =', label_stats_filter.GetMaximum(1), '; mean =', label_stats_filter.GetMean(1), '; std =', label_stats_filter.GetSigma(1))\n",
    "print('Label 2: min =', label_stats_filter.GetMinimum(2), '; max =', label_stats_filter.GetMaximum(2), '; mean =', label_stats_filter.GetMean(2), '; std =', label_stats_filter.GetSigma(2))\n",
    "print('Label 3: min =', label_stats_filter.GetMinimum(3), '; max =', label_stats_filter.GetMaximum(3), '; mean =', label_stats_filter.GetMean(3), '; std =', label_stats_filter.GetSigma(3))\n",
    "print('Label 4: min =', label_stats_filter.GetMinimum(4), '; max =', label_stats_filter.GetMaximum(4), '; mean =', label_stats_filter.GetMean(4), '; std =', label_stats_filter.GetSigma(4))"
   ]
  },
  {
   "cell_type": "markdown",
   "metadata": {},
   "source": [
    "And making use of the interface ITK <-> Numpy you can go extend your analysis to whatever you may need.\n",
    "\n",
    "This toy example shows you how to extract the image intensities corresponding to all for labels, display them in an histogram and perform statistical tests "
   ]
  },
  {
   "cell_type": "code",
   "execution_count": 5,
   "metadata": {},
   "outputs": [],
   "source": [
    "image_T1_np = itk.GetArrayFromImage(image_T1_itk)\n",
    "mask_T1_np = itk.GetArrayFromImage(mask_T1_itk)"
   ]
  },
  {
   "cell_type": "code",
   "execution_count": 6,
   "metadata": {},
   "outputs": [],
   "source": [
    "intensities_label_1 = image_T1_np[mask_T1_np == 1]\n",
    "intensities_label_2 = image_T1_np[mask_T1_np == 2]\n",
    "intensities_label_3 = image_T1_np[mask_T1_np == 3]\n",
    "intensities_label_4 = image_T1_np[mask_T1_np == 4]"
   ]
  },
  {
   "cell_type": "code",
   "execution_count": 7,
   "metadata": {},
   "outputs": [],
   "source": [
    "%matplotlib inline\n",
    "bins = np.linspace(0, 1200, 100)"
   ]
  },
  {
   "cell_type": "code",
   "execution_count": 8,
   "metadata": {},
   "outputs": [
    {
     "data": {
      "text/plain": [
       "<matplotlib.axes._subplots.AxesSubplot at 0x7fbd6d6cec50>"
      ]
     },
     "execution_count": 8,
     "metadata": {},
     "output_type": "execute_result"
    },
    {
     "data": {
      "image/png": "[encoded data removed]",
      "text/plain": [
       "<Figure size 432x288 with 1 Axes>"
      ]
     },
     "metadata": {
      "needs_background": "light"
     },
     "output_type": "display_data"
    }
   ],
   "source": [
    "sns.distplot(intensities_label_1, bins=bins)\n",
    "sns.distplot(intensities_label_2, bins=bins)\n",
    "sns.distplot(intensities_label_3, bins=bins)\n",
    "sns.distplot(intensities_label_4, bins=bins)"
   ]
  },
  {
   "cell_type": "code",
   "execution_count": 9,
   "metadata": {},
   "outputs": [
    {
     "name": "stdout",
     "output_type": "stream",
     "text": [
      "KS-test: 0.7416819382317403 \n",
      "p-value 0.0\n"
     ]
    }
   ],
   "source": [
    "ks_test, p_value = stats.ks_2samp(intensities_label_3, intensities_label_2)\n",
    "print('KS-test:', ks_test, '\\np-value', p_value)"
   ]
  },
  {
   "cell_type": "markdown",
   "metadata": {},
   "source": [
    "### MRI Parametric Maps\n",
    "#### Making MRI quantitative\n",
    "\n",
    "In this case we will use the .dcm files located in the Dwi_Brain folder. These are were acquired using a Diffusion Weighted sequence in which several volumes of the body part being studied are acquired with different b-values, allowing the computation of parametric maps [more on the method and clinical use](https://radiopaedia.org/articles/diffusion-weighted-imaging-1). \n",
    "\n",
    "The sequence contained in the Dwi_Brain folder contains 2(b=0 and b=1000) x 25 slices (3D volume), and we will use it to calculate the Apparent Diffusion Coefficient (ADC) parametric map.\n",
    "\n",
    "\\begin{equation*}\n",
    "S_{b=1000} = S_{b=0} \\cdot exp(-b \\cdot ADC)\n",
    "\\end{equation*}\n",
    "which can be rearranged to obtained the ADC as follows\n",
    "\\begin{equation*}\n",
    "ADC = -\\frac{ln(\\frac{S_{b=1000}}{S_{b=0}})}{b}\n",
    "\\end{equation*}\n",
    "\n",
    "The name of b-value dicom attribute is DiffusionBValue and the tag is (0018,9087). \n",
    "\n",
    "So first lets get all the .dcm files in the Dwi_Brain folder and separate them by b-value in order to create the $S_{b=0}$ and $S_{b=1000}$ volumes."
   ]
  },
  {
   "cell_type": "code",
   "execution_count": 10,
   "metadata": {},
   "outputs": [],
   "source": [
    "import os\n",
    "import pydicom\n",
    "dwi_dcm_dir = './Dwi_Brain'\n",
    "\n",
    "## Get list of .dcm files in specified folder and ordered\n",
    "namesGenerator = itk.GDCMSeriesFileNames.New()\n",
    "namesGenerator.SetUseSeriesDetails(True)\n",
    "namesGenerator.AddSeriesRestriction(\"0008|0021\")\n",
    "namesGenerator.SetGlobalWarningDisplay(False)\n",
    "namesGenerator.SetDirectory(dwi_dcm_dir)\n",
    "\n",
    "seriesUID = namesGenerator.GetSeriesUIDs()\n",
    "dicom_names = namesGenerator.GetFileNames(seriesUID[0])\n",
    "# dicom_names = [os.path.join(dwi_dcm_dir, file) for file in os.listdir(dwi_dcm_dir) if '.dcm' in file]\n",
    "\n",
    "b0_dcms_list = []\n",
    "b1000_dcms_list = []\n",
    "for filename in dicom_names:\n",
    "    if pydicom.dcmread(filename)[0x18,0x9087].value == 0:\n",
    "        b0_dcms_list.append(filename)\n",
    "    else:\n",
    "        b1000_dcms_list.append(filename)"
   ]
  },
  {
   "cell_type": "markdown",
   "metadata": {},
   "source": [
    "Using these two lists of .dcm files, corresponding to the two b-value, we can create the 3D $b_0$ and the $b_{1000}$ volumes."
   ]
  },
  {
   "cell_type": "code",
   "execution_count": 12,
   "metadata": {},
   "outputs": [
    {
     "data": {
      "application/vnd.jupyter.widget-view+json": {
       "model_id": "1eff1b93d51548b0a6b09aedf57e3ea9",
       "version_major": 2,
       "version_minor": 0
      },
      "text/plain": [
       "VBox(children=(Viewer(annotations=False, cmap='Grayscale', interpolation=False, mode='z', rendered_image=<itkI…"
      ]
     },
     "metadata": {},
     "output_type": "display_data"
    }
   ],
   "source": [
    "# namesGenerator = itk.GDCMSeriesFileNames.New()\n",
    "# namesGenerator.SetUseSeriesDetails(True)\n",
    "# namesGenerator.AddSeriesRestriction(\"0008|0021\")\n",
    "# namesGenerator.SetGlobalWarningDisplay(False)\n",
    "# namesGenerator.SetDirectory(dirName)\n",
    "\n",
    "# seriesUID = namesGenerator.GetSeriesUIDs()\n",
    "\n",
    "# if len(seriesUID) < 1:\n",
    "#     print('No DICOMs in: ' + dirName)\n",
    "#     sys.exit(1)\n",
    "\n",
    "# print('The directory: ' + dirName)\n",
    "# print('Contains the following DICOM Series: ')\n",
    "# for uid in seriesUID:\n",
    "#     print(uid)\n",
    "\n",
    "# seriesFound = False\n",
    "# for uid in seriesUID:\n",
    "#     seriesIdentifier = uid\n",
    "#     if len(sys.argv) > 3:\n",
    "#         seriesIdentifier = sys.argv[3]\n",
    "#         seriesFound = True\n",
    "#     print('Reading: ' + seriesIdentifier)\n",
    "#     fileNames = namesGenerator.GetFileNames(seriesIdentifier)\n",
    "\n",
    "dicomIO = itk.GDCMImageIO.New()\n",
    "\n",
    "reader_itk = itk.ImageSeriesReader[itk.Image.F3].New()\n",
    "reader_itk.SetImageIO(dicomIO)\n",
    "reader_itk.SetFileNames(b0_dcms_list)\n",
    "reader_itk.ForceOrthogonalDirectionOff()\n",
    "reader_itk.Update()\n",
    "\n",
    "b0_image = reader_itk.GetOutput()\n",
    "\n",
    "## We can reuse an instanciated filter\n",
    "reader_itk2 = itk.ImageSeriesReader[itk.Image.F3].New()\n",
    "reader_itk2.SetImageIO(dicomIO)\n",
    "reader_itk2.ForceOrthogonalDirectionOff()\n",
    "reader_itk2.SetFileNames(b1000_dcms_list)\n",
    "reader_itk2.Update()\n",
    "b1000_image = reader_itk2.GetOutput()\n",
    "\n",
    "itkw.checkerboard(b0_image, b1000_image, cmap='Grayscale', mode='z', pattern=6)"
   ]
  },
  {
   "cell_type": "markdown",
   "metadata": {},
   "source": [
    "Now, using both images and filters we can compute the ADC parametric map"
   ]
  },
  {
   "cell_type": "code",
   "execution_count": 1,
   "metadata": {},
   "outputs": [
    {
     "ename": "NameError",
     "evalue": "name 'itk' is not defined",
     "output_type": "error",
     "traceback": [
      "\u001b[0;31m---------------------------------------------------------------------------\u001b[0m",
      "\u001b[0;31mNameError\u001b[0m                                 Traceback (most recent call last)",
      "\u001b[0;32m<ipython-input-1-c2133ffb1f62>\u001b[0m in \u001b[0;36m<module>\u001b[0;34m\u001b[0m\n\u001b[1;32m      1\u001b[0m \u001b[0mb\u001b[0m \u001b[0;34m=\u001b[0m \u001b[0;36m1000.0\u001b[0m \u001b[0;31m# s/mm²\u001b[0m\u001b[0;34m\u001b[0m\u001b[0;34m\u001b[0m\u001b[0m\n\u001b[1;32m      2\u001b[0m \u001b[0;34m\u001b[0m\u001b[0m\n\u001b[0;32m----> 3\u001b[0;31m \u001b[0mdivision_filter\u001b[0m \u001b[0;34m=\u001b[0m \u001b[0mitk\u001b[0m\u001b[0;34m.\u001b[0m\u001b[0mDivideImageFilter\u001b[0m\u001b[0;34m[\u001b[0m\u001b[0mitk\u001b[0m\u001b[0;34m.\u001b[0m\u001b[0mImage\u001b[0m\u001b[0;34m.\u001b[0m\u001b[0mF3\u001b[0m\u001b[0;34m,\u001b[0m \u001b[0mitk\u001b[0m\u001b[0;34m.\u001b[0m\u001b[0mImage\u001b[0m\u001b[0;34m.\u001b[0m\u001b[0mF3\u001b[0m\u001b[0;34m,\u001b[0m \u001b[0mitk\u001b[0m\u001b[0;34m.\u001b[0m\u001b[0mImage\u001b[0m\u001b[0;34m.\u001b[0m\u001b[0mF3\u001b[0m\u001b[0;34m]\u001b[0m\u001b[0;34m.\u001b[0m\u001b[0mNew\u001b[0m\u001b[0;34m(\u001b[0m\u001b[0;34m)\u001b[0m\u001b[0;34m\u001b[0m\u001b[0;34m\u001b[0m\u001b[0m\n\u001b[0m\u001b[1;32m      4\u001b[0m \u001b[0mdivision_filter\u001b[0m\u001b[0;34m.\u001b[0m\u001b[0mSetInput1\u001b[0m\u001b[0;34m(\u001b[0m\u001b[0mb1000_image\u001b[0m\u001b[0;34m)\u001b[0m\u001b[0;34m\u001b[0m\u001b[0;34m\u001b[0m\u001b[0m\n\u001b[1;32m      5\u001b[0m \u001b[0mdivision_filter\u001b[0m\u001b[0;34m.\u001b[0m\u001b[0mSetInput2\u001b[0m\u001b[0;34m(\u001b[0m\u001b[0mb0_image\u001b[0m\u001b[0;34m)\u001b[0m\u001b[0;34m\u001b[0m\u001b[0;34m\u001b[0m\u001b[0m\n",
      "\u001b[0;31mNameError\u001b[0m: name 'itk' is not defined"
     ]
    }
   ],
   "source": [
    "b = 1000.0 # s/mm²\n",
    "\n",
    "division_filter = itk.DivideImageFilter[itk.Image.F3, itk.Image.F3, itk.Image.F3].New()\n",
    "division_filter.SetInput1(b1000_image)\n",
    "division_filter.SetInput2(b0_image)\n",
    "division_filter.Update()\n",
    "\n",
    "b1000_div_b0_image = division_filter.GetOutput()\n",
    "\n",
    "log_filter = itk.LogImageFilter[itk.Image.F3, itk.Image.F3].New()\n",
    "log_filter.SetInput(b1000_div_b0_image)\n",
    "log_filter.Update()\n",
    "\n",
    "ln_b1000_div_b0_image = log_filter.GetOutput()\n",
    "\n",
    "division_filter2 = itk.DivideImageFilter[itk.Image.F3, itk.Image.F3, itk.Image.F3].New()\n",
    "division_filter2.SetInput1(ln_b1000_div_b0_image)\n",
    "division_filter2.SetConstant2(-1. * b / 1e6) # 10−6 mm2 /s\n",
    "division_filter2.Update()\n",
    "\n",
    "ADC_image = division_filter2.GetOutput()\n",
    "\n",
    "## infinit values will prevent us from correctly view the image so we will have to threshold it\n",
    "threshold_filter = itk.ThresholdImageFilter[itk.Image.F3].New()\n",
    "threshold_filter.SetInput(ADC_image)\n",
    "threshold_filter.SetLower(0.0)\n",
    "threshold_filter.SetUpper(6000.0)\n",
    "threshold_filter.SetOutsideValue(0.)\n",
    "threshold_filter.Update()\n",
    "\n",
    "ADC_image = threshold_filter.GetOutput()\n",
    "\n",
    "itkw.view(ADC_image, cmap='Grayscale', mode='z')"
   ]
  },
  {
   "cell_type": "code",
   "execution_count": null,
   "metadata": {},
   "outputs": [],
   "source": []
  }
 ],
 "metadata": {
  "kernelspec": {
   "display_name": "Python 3",
   "language": "python",
   "name": "python3"
  },
  "language_info": {
   "codemirror_mode": {
    "name": "ipython",
    "version": 3
   },
   "file_extension": ".py",
   "mimetype": "text/x-python",
   "name": "python",
   "nbconvert_exporter": "python",
   "pygments_lexer": "ipython3",
   "version": "3.6.8"
  }
 },
 "nbformat": 4,
 "nbformat_minor": 2
}
