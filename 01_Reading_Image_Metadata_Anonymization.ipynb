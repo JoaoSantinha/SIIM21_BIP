{
 "cells": [
  {
   "attachments": {
    "image.png": {
     "image/png": "[encoded data removed]"
    }
   },
   "cell_type": "markdown",
   "metadata": {
    "id": "ESElAasgf038"
   },
   "source": [
    "# SIIM Meeting 2021 Hands-on Session\n",
    "\n",
    "![SIIM21](https://siim.org/resource/resmgr/siim2021/banners/SIIM2021_banner2500x600.png)\n",
    "\n",
    "# Basics of Image Processing - Reading, de-identification and anonymization - Session ID 1017\n",
    "## Reading DICOM Images and Metadata, other formats, Writing and Viewing\n",
    "\n",
    "By the end of this presentation, you will be able to:\n",
    "1. Read and write DICOM files\n",
    "2. Read and modify specific DICOM tags\n",
    "3. Visualize pixel data\n",
    "\n",
    "In order to accomplish the proposed activities, you will need to:\n",
    "\n",
    "1. Have a basic understanding of python programming\n",
    "2. Have a basic knowledge of DICOM\n",
    "\n",
    "This notebook was created by João Santinha (joao.santinha@gmail.com). Revision by Felipe Kitamura (kitamura.felipe@gmail.com) and Nuno Loução (nunoloucao@gmail.com).\n",
    "\n",
    "\n",
    "## 1. Reading a DICOM Series\n",
    "\n",
    "Lets first start with reading a DICOM series (group of dicom images belonging to same sequence acquisition). This could be 3D or 4D (3D+time or 3D+parameters).\n",
    "\n",
    "In this case, pydicom, SimpleITK and ITK allow you to easily read the DICOM series.\n",
    "\n",
    "The DICOM series is contained in the folder T1w_postContrast_Neuro and whithin you can find several .dcm files, each corresponding to a 2D slice of the 3D volume. ![image.png](attachment:image.png)"
   ]
  },
  {
   "cell_type": "code",
   "execution_count": null,
   "metadata": {
    "id": "r_GsJjppf03_",
    "outputId": "25bb0467-73c3-4b00-8f6f-ccdf7c8c6f17"
   },
   "outputs": [],
   "source": [
    "!ls ./T1w_postContrast_Neuro/"
   ]
  },
  {
   "cell_type": "markdown",
   "metadata": {
    "id": "9nEHvYvMf04A"
   },
   "source": [
    "Each of these DICOM files contain both metadata (scanner information, acquisition settings, patient info, slice location, etc.), as well as, the pixel/voxel data (2D - pixel; 3D - voxel)"
   ]
  },
  {
   "cell_type": "code",
   "execution_count": null,
   "metadata": {
    "id": "gCXKv4Pff04B"
   },
   "outputs": [],
   "source": [
    "import os\n",
    "cT1w_data_dir = './T1w_postContrast_Neuro/'\n",
    "dcm_filename = '000120.dcm'\n",
    "dcm_filepath = os.path.join(cT1w_data_dir, dcm_filename)"
   ]
  },
  {
   "cell_type": "markdown",
   "metadata": {
    "id": "zwabbJTzf04C"
   },
   "source": [
    "### Reading DICOM Image and Metadata using pydicom\n",
    "\n",
    "Pydicom was design to provide a pythonic way to work with DICOM files that can include medical image, reports, and radiotherapy objects. Usually it is used to allow DICOM metadata reading and modification (anonymization/de-identification).\n",
    "\n",
    "Let's see how to look a DICOM file metadata and obtain the patient name, age, sequence parameters like echo time, repetition time, and slice thickness."
   ]
  },
  {
   "cell_type": "code",
   "execution_count": null,
   "metadata": {
    "id": "fScDJNJmf04D"
   },
   "outputs": [],
   "source": [
    "import pydicom\n",
    "from pydicom.filereader import read_dicomdir\n",
    "\n",
    "ds = pydicom.dcmread(dcm_filepath)"
   ]
  },
  {
   "cell_type": "markdown",
   "metadata": {
    "id": "zAlPQsn9f04E"
   },
   "source": [
    "Print an overview of the DICOM metada. Notice it is composed by a tag (xxxx, xxxx), tag name (e.g. Group Length), value representation (e.g. UI - unique id; TM - time; DA - data; CS - code string, etc.), and value"
   ]
  },
  {
   "cell_type": "code",
   "execution_count": null,
   "metadata": {
    "id": "LPrHzTPYf04E",
    "outputId": "f3bc4e89-880d-4e75-e016-227877b1fb57"
   },
   "outputs": [],
   "source": [
    "ds"
   ]
  },
  {
   "cell_type": "markdown",
   "metadata": {
    "id": "glY-tMNwf04F"
   },
   "source": [
    "Lets retrieve patient name using the corresponding dicom metada tag name (without spaces!!!)"
   ]
  },
  {
   "cell_type": "code",
   "execution_count": null,
   "metadata": {
    "id": "C2EmJNkGf04G",
    "outputId": "79bae08b-071a-4c91-de0d-17e859291ab4"
   },
   "outputs": [],
   "source": [
    "ds.PatientName # de-identified patient "
   ]
  },
  {
   "cell_type": "markdown",
   "metadata": {
    "id": "A8-LvsdRf04H"
   },
   "source": [
    "Or alternatively using the corresponding DICOM metadata tag"
   ]
  },
  {
   "cell_type": "code",
   "execution_count": null,
   "metadata": {
    "id": "nHWbW1fvf04H",
    "outputId": "8b59b2ec-dca3-4100-bfb2-c75f9a42e844"
   },
   "outputs": [],
   "source": [
    "ds[0x10,0X10].value"
   ]
  },
  {
   "cell_type": "code",
   "execution_count": null,
   "metadata": {
    "id": "ztSr0nakf04I",
    "outputId": "c38bb168-4739-4494-b194-dcab210f1e16"
   },
   "outputs": [],
   "source": [
    "ds.PatientBirthDate # empty due to anonymization"
   ]
  },
  {
   "cell_type": "code",
   "execution_count": null,
   "metadata": {
    "id": "Dtj1ujoBf04J",
    "outputId": "387007b8-5d8d-49ed-9dc0-00f4842a8b59"
   },
   "outputs": [],
   "source": [
    "ds.EchoTime"
   ]
  },
  {
   "cell_type": "code",
   "execution_count": null,
   "metadata": {
    "id": "4VS0C1LOf04J",
    "outputId": "b8ad725d-ee00-414b-e54b-4dc65145eda5"
   },
   "outputs": [],
   "source": [
    "ds.RepetitionTime"
   ]
  },
  {
   "cell_type": "code",
   "execution_count": null,
   "metadata": {
    "id": "E9RkNrxuf04K",
    "outputId": "19eb8811-b3ad-464b-f553-014bd4732e8f"
   },
   "outputs": [],
   "source": [
    "ds.SliceThickness"
   ]
  },
  {
   "cell_type": "markdown",
   "metadata": {
    "id": "PLtihqTHf04L"
   },
   "source": [
    "Lets view a slice"
   ]
  },
  {
   "cell_type": "code",
   "execution_count": null,
   "metadata": {
    "id": "ng7k98-Ff04L",
    "outputId": "bc79b8e2-8a4f-4e7b-8980-d9908b1f1e95"
   },
   "outputs": [],
   "source": [
    "%matplotlib inline\n",
    "# %matplotlib notebook \n",
    "import numpy as np\n",
    "import matplotlib.pyplot as plt\n",
    "\n",
    "slice_data = ds.pixel_array\n",
    "\n",
    "plt.imshow(slice_data, cmap=\"gray\")\n",
    "plt.show()"
   ]
  },
  {
   "cell_type": "markdown",
   "metadata": {
    "id": "-LLVXEiaf04M"
   },
   "source": [
    "## 2. Reading DICOM Image and Metadata using SimpleITK\n",
    "\n",
    "We can also obtain metadata information using SimpleITK. SimpleITK offers additional function for filtering, segmentation and registeration of the images."
   ]
  },
  {
   "cell_type": "code",
   "execution_count": null,
   "metadata": {
    "id": "kP_lr6fSf04N"
   },
   "outputs": [],
   "source": [
    "import SimpleITK as sitk\n",
    "\n",
    "reader = sitk.ImageFileReader()\n",
    "\n",
    "reader.SetFileName(dcm_filepath)\n",
    "reader.LoadPrivateTagsOn();\n",
    "\n",
    "reader.ReadImageInformation();"
   ]
  },
  {
   "cell_type": "markdown",
   "metadata": {
    "id": "aOqg40faf04O"
   },
   "source": [
    "But its interface to obtain the metadata is a bit different. Lets list the tags to have an idea how to access them"
   ]
  },
  {
   "cell_type": "code",
   "execution_count": null,
   "metadata": {
    "id": "g58rLQ8kf04O",
    "outputId": "b288b62c-8350-46af-c62e-c0262e91255b"
   },
   "outputs": [],
   "source": [
    "print(reader.GetMetaDataKeys())"
   ]
  },
  {
   "cell_type": "markdown",
   "metadata": {
    "id": "nDSUXKVjf04P"
   },
   "source": [
    "Lets get the patient name, age, sequence parameters like echo time, repetition time, and slice thickness using SimpleITK"
   ]
  },
  {
   "cell_type": "code",
   "execution_count": null,
   "metadata": {
    "id": "YkbPpDGMf04Q",
    "outputId": "24e6788d-98bb-4a0d-87bf-3de7b7a6045b"
   },
   "outputs": [],
   "source": [
    "print('Patient\\'s Name', reader.GetMetaData('0010|0010'))\n",
    "print('Slice Thickness', reader.GetMetaData('0018|0050'))\n",
    "print('Repetition Time', reader.GetMetaData('0018|0080'))\n",
    "print('Echo Time', reader.GetMetaData('0018|0081'))"
   ]
  },
  {
   "cell_type": "markdown",
   "metadata": {
    "id": "J5ntJ-usf04Q"
   },
   "source": [
    "Similar to what we did using pydicom, lets now read the image and plot it"
   ]
  },
  {
   "cell_type": "code",
   "execution_count": null,
   "metadata": {
    "id": "EFHQkzL0f04R",
    "outputId": "ac872d42-bad0-4713-8ac5-ac257765487d"
   },
   "outputs": [],
   "source": [
    "%matplotlib inline\n",
    "image_slice = reader.Execute() # this is not a numpy array, but an simple itk image object - we will see this later\n",
    "\n",
    "image_slice_np = sitk.GetArrayFromImage(image_slice)[0,:,:]\n",
    "\n",
    "plt.imshow(sitk.GetArrayFromImage(image_slice)[0,:,:], cmap=\"gray\")\n",
    "plt.show()"
   ]
  },
  {
   "cell_type": "markdown",
   "metadata": {
    "id": "soKC9QEVf04R"
   },
   "source": [
    "## 3. Reading DICOM Image/Series and Metadata using ITK\n",
    "\n",
    "Although ITK is a C++ library it contains a wrapping in python which we will use.\n",
    "\n",
    "This wrapping offers all the functionalities provived by the C++ implementation.\n",
    "\n",
    "As you will see ITK is more verbose than SimpleITK but it more customizable and offers additional filters.\n",
    "\n",
    "Lets get the patient name, age, sequence parameters like echo time, repetition time, and slice thickness using ITK"
   ]
  },
  {
   "cell_type": "code",
   "execution_count": null,
   "metadata": {
    "id": "l54bbRxBf04S",
    "outputId": "3bcf4e3e-cd69-4318-b0ea-04e18e3b73b2"
   },
   "outputs": [],
   "source": [
    "import itk\n",
    "\n",
    "namesGenerator = itk.GDCMSeriesFileNames.New()\n",
    "namesGenerator.SetUseSeriesDetails(True)\n",
    "namesGenerator.AddSeriesRestriction(\"0008|0021\")\n",
    "namesGenerator.SetGlobalWarningDisplay(False)\n",
    "namesGenerator.SetDirectory(cT1w_data_dir)\n",
    "\n",
    "seriesUIDs = namesGenerator.GetSeriesUIDs() #this gets the series UID that will allows us to separate two or more series in a folder \n",
    "\n",
    "uid = seriesUIDs[0]\n",
    "\n",
    "dicom_names = namesGenerator.GetFileNames(uid)\n",
    "\n",
    "PixelType = itk.ctype('signed short')\n",
    "Dimension = 3\n",
    "\n",
    "ImageType = itk.Image[PixelType, Dimension]\n",
    "\n",
    "reader_itk = itk.ImageSeriesReader[ImageType].New()\n",
    "dicomIO = itk.GDCMImageIO.New()\n",
    "reader_itk.SetImageIO(dicomIO)\n",
    "reader_itk.SetFileNames(dicom_names)\n",
    "reader_itk.ForceOrthogonalDirectionOff()\n",
    "reader_itk.Update()\n",
    "\n",
    "metad = dicomIO.GetMetaDataDictionary()\n",
    "# metad['0010|0010']\n",
    "print('Patient\\'s Name', metad['0010|0010'])\n",
    "print('Slice Thickness', metad['0018|0050'])\n",
    "print('Repetition Time', metad['0018|0080'])\n",
    "print('Echo Time', metad['0018|0081'])"
   ]
  },
  {
   "cell_type": "markdown",
   "metadata": {
    "id": "rRPioWZZf04T"
   },
   "source": [
    "But we actually read the 3D volume represented by all the .dcm files. Let see what the object ITK image contains."
   ]
  },
  {
   "cell_type": "code",
   "execution_count": null,
   "metadata": {
    "id": "7GmJs2qQf04U",
    "outputId": "f8afd8c6-d793-4e62-943a-06db79994f0a"
   },
   "outputs": [],
   "source": [
    "image_itk = reader_itk.GetOutput() # this loads all .dcm files and creates a 3D volume corresponding to the acquisition\n",
    "print(image_itk) # this is not just voxel values, it contains image information like size, orientation, origin, etc."
   ]
  },
  {
   "cell_type": "markdown",
   "metadata": {
    "id": "kertkQQUf04U"
   },
   "source": [
    "## 4. Viewing 3D volumes and slices in jupyter lab\n",
    "\n",
    "Using ITK and ITK Widgets it is possible visualize the 3D volume, change slices, windowing, view, among others."
   ]
  },
  {
   "cell_type": "code",
   "execution_count": null,
   "metadata": {
    "colab": {
     "referenced_widgets": [
      "16ab21aff0114818bc90dfa529e86114"
     ]
    },
    "id": "a-6qTAhYf04V",
    "outputId": "40023bc0-f33d-45a2-b102-c65bf283e12f"
   },
   "outputs": [],
   "source": [
    "import itkwidgets as itkw\n",
    "itkw.view(image_itk)"
   ]
  },
  {
   "cell_type": "markdown",
   "metadata": {
    "id": "os5H7QCnf04V"
   },
   "source": [
    "Change colormap/CLUT (Color Look Up Table)"
   ]
  },
  {
   "cell_type": "code",
   "execution_count": null,
   "metadata": {
    "colab": {
     "referenced_widgets": [
      "2c963ff2a40345ecb259f8b56e351ba9"
     ]
    },
    "id": "q_XVQ-jFf04W",
    "outputId": "77c3aa7b-36e9-4ac6-aa43-4046f0055ef6"
   },
   "outputs": [],
   "source": [
    "itkw.view(image_itk, cmap='Grayscale')"
   ]
  },
  {
   "cell_type": "markdown",
   "metadata": {
    "id": "0SUtQNGNf04X"
   },
   "source": [
    "You can also request the anatomical plane you wish to view (command mode: {'x', 'y', 'z', 'v' - default})"
   ]
  },
  {
   "cell_type": "code",
   "execution_count": null,
   "metadata": {
    "colab": {
     "referenced_widgets": [
      "7dd5b03daaa345ca8f9696d3dca5f104"
     ]
    },
    "id": "_ieM-OTvf04X",
    "outputId": "f64f8a96-fd17-42a3-be7f-71d0d888fb6b"
   },
   "outputs": [],
   "source": [
    "itkw.view(image_itk, cmap='Grayscale', mode='x')"
   ]
  },
  {
   "cell_type": "markdown",
   "metadata": {
    "id": "CgsLZ770f04Y"
   },
   "source": [
    "Or request the slicing planes on you volume rendering (command slicing_planes: {True, False - default})"
   ]
  },
  {
   "cell_type": "code",
   "execution_count": null,
   "metadata": {
    "colab": {
     "referenced_widgets": [
      "f065b5bd10a740b4ac0105b5b0ded3a3"
     ]
    },
    "id": "pMsqJKltf04Z",
    "outputId": "9861f971-2097-4c20-c7b6-9c0a79f87088"
   },
   "outputs": [],
   "source": [
    "itkw.view(image_itk, cmap='Grayscale', slicing_planes=True)"
   ]
  },
  {
   "cell_type": "markdown",
   "metadata": {
    "id": "sUAsEIvJf04Z"
   },
   "source": [
    "Finally we will save the 3D volume in a single file for easier handling in the next notebooks."
   ]
  },
  {
   "cell_type": "code",
   "execution_count": null,
   "metadata": {
    "id": "p5b-bpkof04a",
    "outputId": "ebaa25ce-6067-41f7-83e7-16853f6d86e2"
   },
   "outputs": [],
   "source": [
    "writer = itk.ImageFileWriter[ImageType].New()\n",
    "outFileName = './cT1wNeuro.nrrd'\n",
    "writer.SetFileName(outFileName)\n",
    "writer.UseCompressionOn()\n",
    "writer.SetInput(image_itk)\n",
    "print('Writing: ' + outFileName)\n",
    "writer.Update()\n"
   ]
  },
  {
   "cell_type": "markdown",
   "metadata": {
    "id": "q9i93wm9f04b"
   },
   "source": []
  }
 ],
 "metadata": {
  "colab": {
   "name": "01_Reading_Image_Metadata_v2.ipynb",
   "provenance": []
  },
  "kernelspec": {
   "display_name": "Python 3",
   "language": "python",
   "name": "python3"
  },
  "language_info": {
   "codemirror_mode": {
    "name": "ipython",
    "version": 3
   },
   "file_extension": ".py",
   "mimetype": "text/x-python",
   "name": "python",
   "nbconvert_exporter": "python",
   "pygments_lexer": "ipython3",
   "version": "3.6.13"
  }
 },
 "nbformat": 4,
 "nbformat_minor": 4
}
