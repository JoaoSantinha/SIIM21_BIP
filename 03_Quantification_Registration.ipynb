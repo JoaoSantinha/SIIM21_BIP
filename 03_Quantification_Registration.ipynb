{
 "cells": [
  {
   "cell_type": "markdown",
   "metadata": {},
   "source": [
    "# SIIM Meeting 2021 Hands-on Session\n",
    "\n",
    "![SIIM21](https://siim.org/resource/resmgr/siim2021/banners/SIIM2021_banner2500x600.png)\n",
    "\n",
    "# Basics of Image Processing - Imaging quantification and registration - Session ID 6007\n",
    "\n",
    "By the end of this presentation, you will be able to:\n",
    "1. Perform image quantification based on statistical methods\n",
    "2. Perform image quantification using quantitative MRI sequences\n",
    "3. Perform registration of two brain MRIs\n",
    "\n",
    "In order to accomplish the proposed activities, you will need to:\n",
    "\n",
    "1. Have a basic understanding of python programming\n",
    "2. Have a basic knowledge of DICOM\n",
    "\n",
    "This notebook was created by João Santinha (joao.santinha@gmail.com). Revision by Felipe Kitamura (kitamura.felipe@gmail.com) and Nuno Loução (nunoloucao@gmail.com).\n",
    "\n",
    "## 1. Image Quantification - Statistical Methods"
   ]
  },
  {
   "cell_type": "code",
   "execution_count": 1,
   "metadata": {},
   "outputs": [],
   "source": [
    "import itk\n",
    "import SimpleITK as sitk\n",
    "import numpy as np\n",
    "import itkwidgets as itkw\n",
    "import seaborn as sns\n",
    "import matplotlib.pyplot as plt\n",
    "from scipy import stats"
   ]
  },
  {
   "cell_type": "code",
   "execution_count": 2,
   "metadata": {},
   "outputs": [],
   "source": [
    "image_T1_itk = itk.imread('./brain_T1.nii.gz', itk.F)\n",
    "mask_T1_itk = itk.imread('./bayesian_mask.nii.gz')"
   ]
  },
  {
   "cell_type": "markdown",
   "metadata": {},
   "source": [
    "ITK also enables you to extract statistics of your images using your segmentation mask labels"
   ]
  },
  {
   "cell_type": "code",
   "execution_count": 3,
   "metadata": {},
   "outputs": [],
   "source": [
    "label_stats_filter = itk.LabelStatisticsImageFilter[image_T1_itk, mask_T1_itk].New()\n",
    "label_stats_filter.SetInput(image_T1_itk)\n",
    "label_stats_filter.SetLabelInput(mask_T1_itk)\n",
    "label_stats_filter.Update()"
   ]
  },
  {
   "cell_type": "code",
   "execution_count": 4,
   "metadata": {},
   "outputs": [
    {
     "name": "stdout",
     "output_type": "stream",
     "text": [
      "Label 1: min = 14.0 ; max = 574.0 ; mean = 254.95933143484655 ; std = 89.40513369678625\n",
      "Label 2: min = 226.0 ; max = 763.0 ; mean = 436.2569736713321 ; std = 94.87566894099467\n",
      "Label 3: min = 303.0 ; max = 956.0 ; mean = 595.8542034811804 ; std = 122.39659225616495\n",
      "Label 4: min = 397.0 ; max = 1820.0 ; mean = 802.8540440702719 ; std = 140.25743775456513\n"
     ]
    }
   ],
   "source": [
    "print('Label 1: min =', label_stats_filter.GetMinimum(1), '; max =', label_stats_filter.GetMaximum(1), '; mean =', label_stats_filter.GetMean(1), '; std =', label_stats_filter.GetSigma(1))\n",
    "print('Label 2: min =', label_stats_filter.GetMinimum(2), '; max =', label_stats_filter.GetMaximum(2), '; mean =', label_stats_filter.GetMean(2), '; std =', label_stats_filter.GetSigma(2))\n",
    "print('Label 3: min =', label_stats_filter.GetMinimum(3), '; max =', label_stats_filter.GetMaximum(3), '; mean =', label_stats_filter.GetMean(3), '; std =', label_stats_filter.GetSigma(3))\n",
    "print('Label 4: min =', label_stats_filter.GetMinimum(4), '; max =', label_stats_filter.GetMaximum(4), '; mean =', label_stats_filter.GetMean(4), '; std =', label_stats_filter.GetSigma(4))"
   ]
  },
  {
   "cell_type": "markdown",
   "metadata": {},
   "source": [
    "And making use of the interface ITK <-> Numpy you can go extend your analysis to whatever you may need.\n",
    "\n",
    "This toy example shows you how to extract the image intensities corresponding to all for labels, display them in an histogram and perform statistical tests "
   ]
  },
  {
   "cell_type": "code",
   "execution_count": 5,
   "metadata": {},
   "outputs": [],
   "source": [
    "image_T1_np = itk.GetArrayFromImage(image_T1_itk)\n",
    "mask_T1_np = itk.GetArrayFromImage(mask_T1_itk)"
   ]
  },
  {
   "cell_type": "code",
   "execution_count": 6,
   "metadata": {},
   "outputs": [],
   "source": [
    "intensities_label_1 = image_T1_np[mask_T1_np == 1]\n",
    "intensities_label_2 = image_T1_np[mask_T1_np == 2]\n",
    "intensities_label_3 = image_T1_np[mask_T1_np == 3]\n",
    "intensities_label_4 = image_T1_np[mask_T1_np == 4]"
   ]
  },
  {
   "cell_type": "code",
   "execution_count": 7,
   "metadata": {},
   "outputs": [],
   "source": [
    "%matplotlib inline\n",
    "bins = np.linspace(0, 1200, 100)"
   ]
  },
  {
   "cell_type": "code",
   "execution_count": 8,
   "metadata": {},
   "outputs": [
    {
     "name": "stderr",
     "output_type": "stream",
     "text": [
      "`distplot` is a deprecated function and will be removed in a future version. Please adapt your code to use either `displot` (a figure-level function with similar flexibility) or `histplot` (an axes-level function for histograms).\n",
      "`distplot` is a deprecated function and will be removed in a future version. Please adapt your code to use either `displot` (a figure-level function with similar flexibility) or `histplot` (an axes-level function for histograms).\n",
      "`distplot` is a deprecated function and will be removed in a future version. Please adapt your code to use either `displot` (a figure-level function with similar flexibility) or `histplot` (an axes-level function for histograms).\n",
      "`distplot` is a deprecated function and will be removed in a future version. Please adapt your code to use either `displot` (a figure-level function with similar flexibility) or `histplot` (an axes-level function for histograms).\n"
     ]
    },
    {
     "data": {
      "text/plain": [
       "<AxesSubplot:ylabel='Density'>"
      ]
     },
     "execution_count": 8,
     "metadata": {},
     "output_type": "execute_result"
    },
    {
     "data": {
      "image/png": "[encoded data removed]",
      "text/plain": [
       "<Figure size 432x288 with 1 Axes>"
      ]
     },
     "metadata": {
      "needs_background": "light"
     },
     "output_type": "display_data"
    }
   ],
   "source": [
    "sns.distplot(intensities_label_1, bins=bins)\n",
    "sns.distplot(intensities_label_2, bins=bins)\n",
    "sns.distplot(intensities_label_3, bins=bins)\n",
    "sns.distplot(intensities_label_4, bins=bins)"
   ]
  },
  {
   "cell_type": "code",
   "execution_count": 9,
   "metadata": {},
   "outputs": [
    {
     "name": "stdout",
     "output_type": "stream",
     "text": [
      "KS-test: 0.557067414323915 \n",
      "p-value 0.0\n"
     ]
    }
   ],
   "source": [
    "ks_test, p_value = stats.ks_2samp(intensities_label_3, intensities_label_4)\n",
    "print('KS-test:', ks_test, '\\np-value', p_value)"
   ]
  },
  {
   "cell_type": "markdown",
   "metadata": {},
   "source": [
    "## 2. Image Quantification - MRI Parametric Maps\n",
    "### Making MRI quantitative\n",
    "\n",
    "In this case we will use the .dcm files located in the Dwi_Brain folder. These are were acquired using a Diffusion Weighted sequence in which several volumes of the body part being studied are acquired with different b-values, allowing the computation of parametric maps [more on the method and clinical use](https://radiopaedia.org/articles/diffusion-weighted-imaging-1). \n",
    "\n",
    "The sequence contained in the Dwi_Brain folder contains 2(b=0 and b=1000) x 25 slices (3D volume), and we will use it to calculate the Apparent Diffusion Coefficient (ADC) parametric map.\n",
    "\n",
    "\\begin{equation*}\n",
    "S_{b=1000} = S_{b=0} \\cdot exp(-b \\cdot ADC)\n",
    "\\end{equation*}\n",
    "which can be rearranged to obtained the ADC as follows\n",
    "\\begin{equation*}\n",
    "ADC = -\\frac{ln(\\frac{S_{b=1000}}{S_{b=0}})}{b}\n",
    "\\end{equation*}\n",
    "\n",
    "The name of b-value dicom attribute is DiffusionBValue and the tag is (0018,9087). \n",
    "\n",
    "So first lets get all the .dcm files in the Dwi_Brain folder and separate them by b-value in order to create the $S_{b=0}$ and $S_{b=1000}$ volumes."
   ]
  },
  {
   "cell_type": "code",
   "execution_count": 10,
   "metadata": {},
   "outputs": [],
   "source": [
    "import os\n",
    "import pydicom\n",
    "dwi_dcm_dir = './Dwi_Brain'\n",
    "\n",
    "## Get list of .dcm files in specified folder and ordered\n",
    "namesGenerator = itk.GDCMSeriesFileNames.New()\n",
    "namesGenerator.SetUseSeriesDetails(True)\n",
    "namesGenerator.AddSeriesRestriction(\"0008|0021\")\n",
    "namesGenerator.SetGlobalWarningDisplay(False)\n",
    "namesGenerator.SetDirectory(dwi_dcm_dir)\n",
    "\n",
    "seriesUID = namesGenerator.GetSeriesUIDs()\n",
    "dicom_names = namesGenerator.GetFileNames(seriesUID[0])\n",
    "# dicom_names = [os.path.join(dwi_dcm_dir, file) for file in os.listdir(dwi_dcm_dir) if '.dcm' in file]\n",
    "\n",
    "b0_dcms_list = []\n",
    "b1000_dcms_list = []\n",
    "for filename in dicom_names:\n",
    "    if pydicom.dcmread(filename)[0x18,0x9087].value == 0:\n",
    "        b0_dcms_list.append(filename)\n",
    "    else:\n",
    "        b1000_dcms_list.append(filename)"
   ]
  },
  {
   "cell_type": "markdown",
   "metadata": {},
   "source": [
    "Using these two lists of .dcm files, corresponding to the two b-value, we can create the 3D $b_0$ and the $b_{1000}$ volumes."
   ]
  },
  {
   "cell_type": "code",
   "execution_count": 39,
   "metadata": {},
   "outputs": [
    {
     "data": {
      "application/vnd.jupyter.widget-view+json": {
       "model_id": "31ae12e04582484f81d28506beaa2996",
       "version_major": 2,
       "version_minor": 0
      },
      "text/plain": [
       "VBox(children=(Viewer(annotations=False, cmap=['Grayscale'], interpolation=False, mode='z', rendered_image=<it…"
      ]
     },
     "metadata": {},
     "output_type": "display_data"
    }
   ],
   "source": [
    "dicomIO = itk.GDCMImageIO.New()\n",
    "\n",
    "reader_itk = itk.ImageSeriesReader[itk.Image.F3].New()\n",
    "reader_itk.SetImageIO(dicomIO)\n",
    "reader_itk.SetFileNames(b0_dcms_list)\n",
    "reader_itk.ForceOrthogonalDirectionOff()\n",
    "reader_itk.Update()\n",
    "\n",
    "b0_image = reader_itk.GetOutput()\n",
    "\n",
    "# create a float version of our b0 image for the registration step\n",
    "castImageFilter = itk.CastImageFilter[b0_image, itk.Image.F3].New(b0_image)\n",
    "castImageFilter.Update()\n",
    "b0_image_float = castImageFilter.GetOutput()\n",
    "\n",
    "## We can reuse an instanciated filter\n",
    "reader_itk2 = itk.ImageSeriesReader[itk.Image.F3].New()\n",
    "reader_itk2.SetImageIO(dicomIO)\n",
    "reader_itk2.ForceOrthogonalDirectionOff()\n",
    "reader_itk2.SetFileNames(b1000_dcms_list)\n",
    "reader_itk2.Update()\n",
    "b1000_image = reader_itk2.GetOutput()\n",
    "\n",
    "itkw.checkerboard(b0_image, b1000_image, cmap='Grayscale', mode='z', pattern=6)"
   ]
  },
  {
   "cell_type": "markdown",
   "metadata": {},
   "source": [
    "Now, using both images and filters we can compute the ADC parametric map"
   ]
  },
  {
   "cell_type": "code",
   "execution_count": 38,
   "metadata": {},
   "outputs": [
    {
     "ename": "TypeError",
     "evalue": "Expecting argument of type itkImageF3 or itkImageSourceIF3.\nAdditional information:\nWrong number or type of arguments for overloaded function 'itkBinaryGeneratorImageFilterIF3IF3IF3_SetInput1'.\n  Possible C/C++ prototypes are:\n    itkBinaryGeneratorImageFilterIF3IF3IF3::SetInput1(itkImageF3 const *)\n    itkBinaryGeneratorImageFilterIF3IF3IF3::SetInput1(itkSimpleDataObjectDecoratorF const *)\n    itkBinaryGeneratorImageFilterIF3IF3IF3::SetInput1(float const &)\n",
     "output_type": "error",
     "traceback": [
      "\u001b[0;31m---------------------------------------------------------------------------\u001b[0m",
      "\u001b[0;31mTypeError\u001b[0m                                 Traceback (most recent call last)",
      "\u001b[0;32m<ipython-input-38-c2133ffb1f62>\u001b[0m in \u001b[0;36m<module>\u001b[0;34m\u001b[0m\n\u001b[1;32m      2\u001b[0m \u001b[0;34m\u001b[0m\u001b[0m\n\u001b[1;32m      3\u001b[0m \u001b[0mdivision_filter\u001b[0m \u001b[0;34m=\u001b[0m \u001b[0mitk\u001b[0m\u001b[0;34m.\u001b[0m\u001b[0mDivideImageFilter\u001b[0m\u001b[0;34m[\u001b[0m\u001b[0mitk\u001b[0m\u001b[0;34m.\u001b[0m\u001b[0mImage\u001b[0m\u001b[0;34m.\u001b[0m\u001b[0mF3\u001b[0m\u001b[0;34m,\u001b[0m \u001b[0mitk\u001b[0m\u001b[0;34m.\u001b[0m\u001b[0mImage\u001b[0m\u001b[0;34m.\u001b[0m\u001b[0mF3\u001b[0m\u001b[0;34m,\u001b[0m \u001b[0mitk\u001b[0m\u001b[0;34m.\u001b[0m\u001b[0mImage\u001b[0m\u001b[0;34m.\u001b[0m\u001b[0mF3\u001b[0m\u001b[0;34m]\u001b[0m\u001b[0;34m.\u001b[0m\u001b[0mNew\u001b[0m\u001b[0;34m(\u001b[0m\u001b[0;34m)\u001b[0m\u001b[0;34m\u001b[0m\u001b[0;34m\u001b[0m\u001b[0m\n\u001b[0;32m----> 4\u001b[0;31m \u001b[0mdivision_filter\u001b[0m\u001b[0;34m.\u001b[0m\u001b[0mSetInput1\u001b[0m\u001b[0;34m(\u001b[0m\u001b[0mb1000_image\u001b[0m\u001b[0;34m)\u001b[0m\u001b[0;34m\u001b[0m\u001b[0;34m\u001b[0m\u001b[0m\n\u001b[0m\u001b[1;32m      5\u001b[0m \u001b[0mdivision_filter\u001b[0m\u001b[0;34m.\u001b[0m\u001b[0mSetInput2\u001b[0m\u001b[0;34m(\u001b[0m\u001b[0mb0_image\u001b[0m\u001b[0;34m)\u001b[0m\u001b[0;34m\u001b[0m\u001b[0;34m\u001b[0m\u001b[0m\n\u001b[1;32m      6\u001b[0m \u001b[0mdivision_filter\u001b[0m\u001b[0;34m.\u001b[0m\u001b[0mUpdate\u001b[0m\u001b[0;34m(\u001b[0m\u001b[0;34m)\u001b[0m\u001b[0;34m\u001b[0m\u001b[0;34m\u001b[0m\u001b[0m\n",
      "\u001b[0;31mTypeError\u001b[0m: Expecting argument of type itkImageF3 or itkImageSourceIF3.\nAdditional information:\nWrong number or type of arguments for overloaded function 'itkBinaryGeneratorImageFilterIF3IF3IF3_SetInput1'.\n  Possible C/C++ prototypes are:\n    itkBinaryGeneratorImageFilterIF3IF3IF3::SetInput1(itkImageF3 const *)\n    itkBinaryGeneratorImageFilterIF3IF3IF3::SetInput1(itkSimpleDataObjectDecoratorF const *)\n    itkBinaryGeneratorImageFilterIF3IF3IF3::SetInput1(float const &)\n"
     ]
    }
   ],
   "source": [
    "b = 1000.0 # s/mm²\n",
    "\n",
    "division_filter = itk.DivideImageFilter[itk.Image.F3, itk.Image.F3, itk.Image.F3].New()\n",
    "division_filter.SetInput1(b1000_image)\n",
    "division_filter.SetInput2(b0_image)\n",
    "division_filter.Update()\n",
    "\n",
    "b1000_div_b0_image = division_filter.GetOutput()\n",
    "\n",
    "log_filter = itk.LogImageFilter[itk.Image.F3, itk.Image.F3].New()\n",
    "log_filter.SetInput(b1000_div_b0_image)\n",
    "log_filter.Update()\n",
    "\n",
    "ln_b1000_div_b0_image = log_filter.GetOutput()\n",
    "\n",
    "division_filter2 = itk.DivideImageFilter[itk.Image.F3, itk.Image.F3, itk.Image.F3].New()\n",
    "division_filter2.SetInput1(ln_b1000_div_b0_image)\n",
    "division_filter2.SetConstant2(-1. * b / 1e6) # 10−6 mm2 /s\n",
    "division_filter2.Update()\n",
    "\n",
    "ADC_image = division_filter2.GetOutput()\n",
    "\n",
    "## infinit values will prevent us from correctly view the image so we will have to threshold it\n",
    "threshold_filter = itk.ThresholdImageFilter[itk.Image.F3].New()\n",
    "threshold_filter.SetInput(ADC_image)\n",
    "threshold_filter.SetLower(0.0)\n",
    "threshold_filter.SetUpper(6000.0)\n",
    "threshold_filter.SetOutsideValue(0.)\n",
    "threshold_filter.Update()\n",
    "\n",
    "ADC_image = threshold_filter.GetOutput()\n",
    "\n",
    "itkw.view(ADC_image, cmap='Grayscale', mode='z')"
   ]
  },
  {
   "cell_type": "markdown",
   "metadata": {},
   "source": [
    "#### Exercise 2\n",
    "\n",
    "Using the lists **b0_dcms_list** and **b1000_dcms_list** use the SimpleITK **ImageSeriesReader** function to read the **b0** and **b1000** images and then use **/** and * to perform the division and multiplication operations"
   ]
  },
  {
   "cell_type": "code",
   "execution_count": 18,
   "metadata": {},
   "outputs": [],
   "source": [
    "## use this code box to write your solution\n",
    "\n"
   ]
  },
  {
   "cell_type": "code",
   "execution_count": 19,
   "metadata": {},
   "outputs": [
    {
     "data": {
      "application/vnd.jupyter.widget-view+json": {
       "model_id": "873551e6338340ad97002794178683d0",
       "version_major": 2,
       "version_minor": 0
      },
      "text/plain": [
       "Viewer(cmap=['Grayscale'], geometries=[], gradient_opacity=0.22, mode='z', point_sets=[], rendered_image=<itk.…"
      ]
     },
     "metadata": {},
     "output_type": "display_data"
    }
   ],
   "source": [
    "\n",
    "\n",
    "\n",
    "\n",
    "\n",
    "\n",
    "\n",
    "\n",
    "\n",
    "\n",
    "\n",
    "\n",
    "\n",
    "\n",
    "\n",
    "\n",
    "\n",
    "\n",
    "\n",
    "import math\n",
    "reader_b0 = sitk.ImageSeriesReader()\n",
    "reader_b0.SetFileNames(b0_dcms_list)\n",
    "b0_image = reader_b0.Execute()\n",
    "\n",
    "reader_b1000 = sitk.ImageSeriesReader()\n",
    "reader_b1000.SetFileNames(b1000_dcms_list)\n",
    "b1000_image = reader_b1000.Execute()\n",
    "\n",
    "b1000_div_b0_image = b1000_image/b0_image\n",
    "\n",
    "adc_image = sitk.Log(b1000_div_b0_image)/(-1. * b / 1e6)\n",
    "\n",
    "adc_image = sitk.Threshold(adc_image, lower=0, upper=6000, outsideValue=0)\n",
    "\n",
    "itkw.view(sitk.Cast(adc_image, sitk.sitkFloat32), cmap='Grayscale', mode='z')"
   ]
  },
  {
   "cell_type": "markdown",
   "metadata": {},
   "source": [
    "## 3. Image Registrationn\n",
    "### Aligning two images (these two images may be from the same patient or not and from the same or different modalities)\n",
    "\n",
    "In this case we will use the .dcm files located in the Dwi_Brain folder. These are were acquired using a Diffusion Weighted sequence in which several volumes of the body part being studied are acquired with different b-values, allowing the computation of parametric maps [more on the method and clinical use](https://radiopaedia.org/articles/diffusion-weighted-imaging-1). \n",
    "\n",
    "The sequence contained in the Dwi_Brain folder contains 2(b=0 and b=1000) x 25 slices (3D volume), and we will use it to calculate the Apparent Diffusion Coefficient (ADC) parametric map."
   ]
  },
  {
   "cell_type": "code",
   "execution_count": 43,
   "metadata": {},
   "outputs": [],
   "source": [
    "# Import Default Parameter Map\n",
    "parameter_object = itk.ParameterObject.New()\n",
    "parameter_map_rigid = parameter_object.GetDefaultParameterMap('rigid')\n",
    "parameter_map_affine = parameter_object.GetDefaultParameterMap('affine')\n",
    "parameter_map_bspline = parameter_object.GetDefaultParameterMap('bspline')\n",
    "parameter_object.AddParameterMap(parameter_map_rigid)\n",
    "parameter_object.AddParameterMap(parameter_map_affine)\n",
    "parameter_object.AddParameterMap(parameter_map_bspline)"
   ]
  },
  {
   "cell_type": "code",
   "execution_count": 44,
   "metadata": {},
   "outputs": [],
   "source": [
    "result_image, result_transform_parameters = itk.elastix_registration_method(\n",
    "    b0_image_float, image_T1_itk,\n",
    "    parameter_object=parameter_object,\n",
    "    number_of_threads=8,\n",
    "    log_to_console=False)"
   ]
  },
  {
   "cell_type": "code",
   "execution_count": 46,
   "metadata": {},
   "outputs": [
    {
     "data": {
      "application/vnd.jupyter.widget-view+json": {
       "model_id": "a721d409c7e84a9bad1ecd58f39fc835",
       "version_major": 2,
       "version_minor": 0
      },
      "text/plain": [
       "VBox(children=(Viewer(annotations=False, cmap=['Grayscale'], interpolation=False, mode='z', rendered_image=<it…"
      ]
     },
     "metadata": {},
     "output_type": "display_data"
    }
   ],
   "source": [
    "itkw.checkerboard(result_image, b0_image_float, cmap='Grayscale', mode='z', pattern=6)"
   ]
  },
  {
   "cell_type": "code",
   "execution_count": 49,
   "metadata": {
    "scrolled": true
   },
   "outputs": [
    {
     "data": {
      "application/vnd.jupyter.widget-view+json": {
       "model_id": "ec8049e912474971a0ff2f15a4344202",
       "version_major": 2,
       "version_minor": 0
      },
      "text/plain": [
       "VBox(children=(Viewer(annotations=False, cmap=['Grayscale'], interpolation=False, mode='z', rendered_image=<it…"
      ]
     },
     "metadata": {},
     "output_type": "display_data"
    }
   ],
   "source": [
    "parameter_object = itk.ParameterObject.New()\n",
    "parameter_map_rigid = parameter_object.GetDefaultParameterMap('rigid')\n",
    "parameter_map_affine = parameter_object.GetDefaultParameterMap('affine')\n",
    "# For the bspline default parameter map, two extra arguments can be specified that define number of resolutions and the final bspline grid spacing in physical space.\n",
    "parameter_map_bspline = parameter_object.GetDefaultParameterMap('bspline', 4, 50.0)\n",
    "# to change parameters can do the followinng as well\n",
    "#parameter_map_bspline['MaximumNumberOfIterations'] = ['512']\n",
    "#parameter_map_bspline['NumberOfSpatialSamples'] = ['4096']\n",
    "parameter_object.AddParameterMap(parameter_map_rigid)\n",
    "parameter_object.AddParameterMap(parameter_map_affine)\n",
    "parameter_object.AddParameterMap(parameter_map_bspline)\n",
    "\n",
    "result_image, result_transform_parameters = itk.elastix_registration_method(\n",
    "    b0_image_float, image_T1_itk,\n",
    "    parameter_object=parameter_object,\n",
    "    number_of_threads=8,\n",
    "    log_to_console=False)\n",
    "\n",
    "itkw.checkerboard(result_image, b0_image, cmap='Grayscale', mode='z', pattern=6)"
   ]
  },
  {
   "cell_type": "code",
   "execution_count": 50,
   "metadata": {},
   "outputs": [],
   "source": [
    "# here the 'ResampleInterpolator' of all parameter maps is in the parameter_object set to FinalNearestNeighborInterpolator\n",
    "result_transform_parameters.SetParameter(\"ResampleInterpolator\", \"FinalNearestNeighborInterpolator\")\n",
    "castImageFilter = itk.CastImageFilter[mask_T1_itk, itk.Image.F3].New(mask_T1_itk)\n",
    "castImageFilter.Update()\n",
    "mask_T1_itk_float = castImageFilter.GetOutput()\n",
    "transformix_object = itk.TransformixFilter.New(mask_T1_itk_float)\n",
    "transformix_object.SetTransformParameterObject(result_transform_parameters)\n",
    "\n",
    "# Update object (required)\n",
    "transformix_object.UpdateLargestPossibleRegion()\n",
    "\n",
    "# Results of Transformation\n",
    "result_image_transformix = transformix_object.GetOutput()"
   ]
  },
  {
   "cell_type": "code",
   "execution_count": 47,
   "metadata": {},
   "outputs": [
    {
     "data": {
      "application/vnd.jupyter.widget-view+json": {
       "model_id": "1edecd05097a4feebe9f4d474c5fc795",
       "version_major": 2,
       "version_minor": 0
      },
      "text/plain": [
       "VBox(children=(Viewer(annotations=False, cmap=['Grayscale'], interpolation=False, mode='z', rendered_image=<it…"
      ]
     },
     "metadata": {},
     "output_type": "display_data"
    }
   ],
   "source": [
    "itkw.checkerboard(result_image_transformix, ADC_image, cmap='Grayscale', mode='z', pattern=6)"
   ]
  },
  {
   "cell_type": "code",
   "execution_count": 52,
   "metadata": {
    "scrolled": true
   },
   "outputs": [
    {
     "data": {
      "application/vnd.jupyter.widget-view+json": {
       "model_id": "073bab7f22a44dfb8aca062bbae01e56",
       "version_major": 2,
       "version_minor": 0
      },
      "text/plain": [
       "AppLayout(children=(HBox(children=(Label(value='Link:'), Checkbox(value=True, description='cmap'), Checkbox(va…"
      ]
     },
     "metadata": {},
     "output_type": "display_data"
    }
   ],
   "source": [
    "itkw.compare(result_image_transformix, ADC_image, link_cmap=True, cmap='Grayscale', mode='z')"
   ]
  },
  {
   "cell_type": "code",
   "execution_count": null,
   "metadata": {},
   "outputs": [],
   "source": []
  }
 ],
 "metadata": {
  "kernelspec": {
   "display_name": "Python 3",
   "language": "python",
   "name": "python3"
  },
  "language_info": {
   "codemirror_mode": {
    "name": "ipython",
    "version": 3
   },
   "file_extension": ".py",
   "mimetype": "text/x-python",
   "name": "python",
   "nbconvert_exporter": "python",
   "pygments_lexer": "ipython3",
   "version": "3.6.13"
  }
 },
 "nbformat": 4,
 "nbformat_minor": 4
}
